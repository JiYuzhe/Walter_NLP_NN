{
 "cells": [
  {
   "cell_type": "code",
   "execution_count": 64,
   "metadata": {
    "collapsed": false
   },
   "outputs": [],
   "source": [
    "import xml\n",
    "from xml.sax.handler import ContentHandler\n",
    "import xml.etree.cElementTree as ET\n",
    "from word_mapper import BugReportWordMapper\n",
    "from collections import namedtuple\n",
    "\n",
    "def normalizeWhitespace(text):\n",
    "        \"Remove redundant whitespace from a string\"\n",
    "        return ' '.join(text.split())\n",
    "\n",
    "class AutoContentHandler(ContentHandler):\n",
    "    def startElement(self, name, attrs):\n",
    "        startElementHandler = getattr(self, \"start_\" + name, None)\n",
    "        if callable(startElementHandler):\n",
    "            startElementHandler(name, attrs)\n",
    "\n",
    "    def endElement(self, name):\n",
    "        endElementHandler = getattr(self, \"end_\" + name, None)\n",
    "        if callable(endElementHandler):\n",
    "            endElementHandler(name)\n",
    "\n",
    "'''\n",
    "Example\n",
    "<bugrepository name=\"SWT\">\n",
    "  <bug id=\"75739\" opendate=\"2004-10-06 17:02:00\" fixdate=\"2004-10-18 17:40:00\">\n",
    "    <buginformation>\n",
    "      <summary>Variant has no toString()</summary>\n",
    "      <description>The Variant class has no toString() and one cannot call getString() in all cases since it throws an Exception if the type is VT_EMPTY. So I suggest: /** * Always returns a String. * &amp;#64;param variant * &amp;#64;return a String */ public static String toString() { if (this.getType() == COM.VT_EMPTY) { return &amp;quot;&amp;quot;; } return this.getString(); } Version 3.1.M2.</description>\n",
    "    </buginformation>\n",
    "    <fixedFiles>\n",
    "      <file>org.eclipse.swt.ole.win32.Variant.java</file>\n",
    "    </fixedFiles>\n",
    "  </bug>\n",
    "</bugrepository>\n",
    "'''\n",
    "#LEFT IN ALL THE CODE THAT CLAYTON HAD UPLOADED TO GITHUB, MAYBE THE CODE HERE CAN BE ALTERED TO FACILITATE XML CREATION SINCE IT IS EVENT BASED\n",
    "class BugReportContentHandler(AutoContentHandler):\n",
    "    def __init__(self):\n",
    "        #elf.bugRepositoryName = None\n",
    "        self.currentBugReportId = None\n",
    "        self.currentBugReportWords = []\n",
    "        #elf.currentFiles = []\n",
    "        self.bugReportInformation = []\n",
    "        self.capturingBugInformation = False\n",
    "        self.capturingFile = False\n",
    "\n",
    "#   def start_bugrepository(self, name, attrs):\n",
    "#       self.bugRepositoryName = normalizeWhitespace(attrs.get(\"name\"))\n",
    "\n",
    "#    def start_bug(self, name, attrs):\n",
    "#        self.currentBugReportId = normalizeWhitespace(attrs.get(\"id\"))\n",
    "\n",
    "#    def start_buginformation(self, name, attrs):\n",
    "#        self.capturingBugInformation = True\n",
    "#        self.currentBugReportWords = []\n",
    "\n",
    "    def start_query(self, name, attrs):\n",
    "        self.capturingBugInformation = True\n",
    "        self.currentBugReportWords = []\n",
    "\n",
    "#    def start_summary(self, name, attrs):\n",
    "#        pass\n",
    "\n",
    "#    def start_description(self, name, attrs):\n",
    "#        pass\n",
    "\n",
    "    def start_text(self, name, attrs):\n",
    "        pass\n",
    "\n",
    "#    def start_fixedFiles(self, name, attrs):\n",
    "#        self.currentFiles = []\n",
    "#       pass\n",
    "\n",
    "#    def start_file(self, name, attrs):\n",
    "#        self.capturingFile = True\n",
    "        \n",
    "\n",
    "#    def end_bugrepository(self, name):\n",
    "#        pass\n",
    "         \n",
    "#    def end_bug(self, name):\n",
    "#        self.bugReportInformation.append((self.currentBugReportId, self.currentBugReportWords, self.currentFiles))\n",
    "\n",
    "#    def end_buginformation(self, name):\n",
    "#        self.capturingBugInformation = False\n",
    "        \n",
    "    def end_query(self, name):\n",
    "        self.bugReportInformation.append((self.currentBugReportWords))\n",
    "        self.capturingBugInformation = False\n",
    "\n",
    "#    def end_summary(self, name):\n",
    "#        pass\n",
    "\n",
    "#    def end_description(self, name):\n",
    "#        pass\n",
    "\n",
    "    def end_text(self, name):\n",
    "        pass\n",
    "#    def end_fixedFiles(self, name):\n",
    "#        pass\n",
    "\n",
    "#    def end_file(self, name):\n",
    "#        self.capturingFile = False\n",
    "\n",
    "    def characters(self, content):\n",
    "        if self.capturingBugInformation:\n",
    "            self.currentBugReportWords.extend(self.parseWords(content))\n",
    "        elif self.capturingFile:\n",
    "            self.currentFiles.append(normalizeWhitespace(content))\n",
    "\n",
    "    def parseWords(self, content):\n",
    "        return content.split()\n",
    "\n",
    "\n",
    "if __name__ == \"__main__\":\n",
    "    bugReportContentHandler = BugReportContentHandler()\n",
    "\n",
    "    bugReportParser = xml.sax.make_parser()\n",
    "    bugReportParser.setContentHandler(bugReportContentHandler)\n",
    "    bugReportParser.parse(open(\"testRunOut/query.xml\", \"r\"))\n",
    "\n",
    "\n",
    "    from pprint import pprint\n",
    "\n",
    "#    pprint(bugReportContentHandler.bugReportInformation[0])\n",
    "#    print bugReportContentHandler.bugReportInformation[0]\n",
    "    \n",
    "#Use a parameter that has a threshold"
   ]
  },
  {
   "cell_type": "code",
   "execution_count": 65,
   "metadata": {
    "collapsed": false
   },
   "outputs": [],
   "source": [
    "###THIS WAS A FIRST ATTEMPT TO MAINTAIN A LIST FORMAT, BUT DIDN'T WORK WELL. LEAVING IT HERE JUST IN CASE IT SPURS IDEAS\n",
    "#parameters = ET.Element(\"parameters\")\n",
    "#query = ET.SubElement(parameters, \"query\")\n",
    "#ET.SubElement(query, \"number\").text = bugReportContentHandler.bugReportInformation[0][0]\n",
    "#matchingClass = bugReportContentHandler.bugReportInformation\n",
    "\n",
    "#for i in range(len(bugReportContentHandler.bugReportInformation)):\n",
    "#    matchingClass[i] = (filter(lambda x: '.(class)' in x, bugReportContentHandler.bugReportInformation[i]))\n",
    "    \n",
    "#ET.SubElement(query, \"text\").text = matchingClass[0][0]\n",
    "#tree = ET.ElementTree(parameters)\n",
    "#tree.write(\"QueryOutput.xml\")"
   ]
  },
  {
   "cell_type": "code",
   "execution_count": 66,
   "metadata": {
    "collapsed": false
   },
   "outputs": [],
   "source": [
    "parameters = ET.Element(\"parameters\") #XML CODE, ROOT\n",
    "query = ET.SubElement(parameters, \"query\") #XML CODE, SUB ELEMENT\n",
    "ET.SubElement(query, \"number\").text = bugReportContentHandler.bugReportInformation[0][0] #XML CODE, SUB SUB ELEMENT\n",
    "matchingClass = [] #INITIALIZE LISTS\n",
    "matchingMethod = []\n",
    "matchingID = []\n",
    "\n",
    "for i in range(len(bugReportContentHandler.bugReportInformation)): #PARSING INFO FROM XML INTO LISTS\n",
    "    matchingClass.extend((filter(lambda x: '.(class)' in x, bugReportContentHandler.bugReportInformation[i])))\n",
    "    matchingMethod.extend((filter(lambda x: '.(method)' in x, bugReportContentHandler.bugReportInformation[i])))\n",
    "    matchingID.extend((filter(lambda x: '.(identifier)' in x, bugReportContentHandler.bugReportInformation[i])))\n",
    "    \n",
    "matchingClassString = ', '.join(matchingClass) #CREATING STRINGS FOR INPUT BACK INTO XML (MIGHT NEED MORE WORK LIKE INCLUDING WEIGHT)\n",
    "matchingMethodString = ', '.join(matchingMethod)\n",
    "matchingIDString = ', '.join(matchingID)\n",
    "\n",
    "matchingClassStringStrip = matchingClassString.replace(\".(class)\", \"\") #STRIPPED IRRELEVANT SEARCH TERM PORTION FROM ALL WORDS\n",
    "matchingMethodStringStrip = matchingMethodString.replace(\".(method)\", \"\")\n",
    "matchingIDStringStrip = matchingIDString.replace(\".(identifier)\", \"\")\n",
    "\n",
    "ET.SubElement(query, \"text\").text = matchingIDString #XML CODE, SUB SUB ELEMENT (note: set to identifiers so you can see how it works)\n",
    "tree = ET.ElementTree(parameters)\n",
    "tree.write(\"QueryOutput.xml\")"
   ]
  },
  {
   "cell_type": "code",
   "execution_count": 67,
   "metadata": {
    "collapsed": false
   },
   "outputs": [
    {
     "name": "stdout",
     "output_type": "stream",
     "text": [
      "['mouse']\n",
      "['bone', 'meat']\n",
      "['spot', 'milk']\n",
      "['arrow']\n",
      "['fork', 'foil']\n",
      "['bottle']\n"
     ]
    }
   ],
   "source": [
    "Word = namedtuple('WordWithConfidence', ['word', 'confidence']) #IMPORTED INSTANCE OF CLAYTON'S CODE TO TEST FUNCTIONALITY\n",
    "\n",
    "if __name__ == \"__main__\":\n",
    "\n",
    "    # John provides ...\n",
    "    wordMapping_normalContext = {\n",
    "        \"cat\": [Word(\"mouse\", 0.9), Word(\"hairball\", 0.4), Word(\"bird\", 0.7)],\n",
    "        \"dog\": [Word(\"bone\", .99), Word(\"hammer\", 0.01), Word(\"meat\", 0.8), Word(\"bath\", 0.4)],\n",
    "        \"cow\": [Word(\"spot\", .79), Word(\"milk\", 1.0)]\n",
    "    }\n",
    "\n",
    "    wordMapping_weirdContext = {\n",
    "        \"cat\": [Word(\"planet\", 0.3), Word(\"coin\", 0.43), Word(\"arrow\", 0.92)],\n",
    "        \"dog\": [Word(\"fork\", .95), Word(\"foil\", 0.51)],\n",
    "        \"cow\": [Word(\"hair\", .43), Word(\"dirt\", 0.02), Word(\"bottle\", 0.74), Word(\"light\", 0.24)]\n",
    "    }\n",
    "\n",
    "    # Vince provides ...\n",
    "    wordMapper = BugReportWordMapper()\n",
    "    wordMapper.addWordMapping(wordMapping_normalContext, \"normal\")\n",
    "    wordMapper.addWordMapping(wordMapping_weirdContext, \"weird\")\n",
    "\n",
    "    print wordMapper.mapWord(\"cat\", \"normal\", 0.75)\n",
    "    print wordMapper.mapWord(\"dog\", \"normal\", 0.75)\n",
    "    print wordMapper.mapWord(\"cow\", \"normal\", 0.75)\n",
    "\n",
    "    print wordMapper.mapWord(\"cat\", \"weird\", 0.48)\n",
    "    print wordMapper.mapWord(\"dog\", \"weird\", 0.48)\n",
    "    print wordMapper.mapWord(\"cow\", \"weird\", 0.48)"
   ]
  },
  {
   "cell_type": "code",
   "execution_count": 68,
   "metadata": {
    "collapsed": false
   },
   "outputs": [
    {
     "name": "stdout",
     "output_type": "stream",
     "text": [
      "['cat', 'dog', 'cow']\n",
      "['mouse']\n",
      "['bone', 'meat']\n",
      "['spot', 'milk']\n"
     ]
    }
   ],
   "source": [
    "matchingClassSplit = matchingClassStringStrip.split(matchingClassStringStrip.replace(\",\", \" \")) #CREATED LIST FROM STRING AGAIN\n",
    "matchingMethodSplit = matchingMethodStringStrip.split(matchingMethodStringStrip.replace(\",\", \" \"))\n",
    "matchingIDSplit = matchingIDStringStrip.split(matchingIDStringStrip.replace(\",\", \" \"))\n",
    "\n",
    "testList = ['cat', 'dog', 'cow'] #TEST OF CLAYTON CODE ITERATING OVER A FOR LOOP\n",
    "print [x.encode('ascii') for x in testList]\n",
    "for l in range(len(testList)):\n",
    "    print wordMapper.mapWord(testList[l], \"normal\", 0.75) #REPLACE WITH MAPPED FILE AND LIST"
   ]
  },
  {
   "cell_type": "code",
   "execution_count": 69,
   "metadata": {
    "collapsed": false
   },
   "outputs": [
    {
     "data": {
      "text/plain": [
       "\"NOTES: I left a lot of variables here b/c creating the XML might benefit from one of these, they're described below\\nmatchingClass and others are raw bucketed data (lists) ie. they still have .(class) and etc.\\nmatchingClassString and others are strings of bucketed data (not lists) because XML creation above was easier with strings\\nmatchingClassStringStrip and others are string that have been stripped of irrelevant words\\nmatchingClassSplit and others are lists of bucketed data that has been stripped to just words for mapping purposes\\nI tested Clayton's code and with a test list, and iterating over the list works, it just needs a proper mapping file\\n\\nConcerns: the text is unicode, not sure if this will break the wordmapper portion, but it can be encoded to ascii or whatever easily\\nThe last part to do was reprinting the XML portion, so I have basic XML set up, but I can't figure out a way to modify a tagged\\narea without creating a new field, maybe using the SAX events above can help?\\nThe XML is easiest to create with a string, at least it is with my code above, if there's an implementation with a list, then \\nthat might be easier\""
      ]
     },
     "execution_count": 69,
     "metadata": {},
     "output_type": "execute_result"
    }
   ],
   "source": [
    "\"\"\"NOTES: I left a lot of variables here b/c creating the XML might benefit from one of these, they're described below\n",
    "matchingClass and others are raw bucketed data (lists) ie. they still have .(class) and etc.\n",
    "matchingClassString and others are strings of bucketed data (not lists) because XML creation above was easier with strings\n",
    "matchingClassStringStrip and others are string that have been stripped of irrelevant words\n",
    "matchingClassSplit and others are lists of bucketed data that has been stripped to just words for mapping purposes\n",
    "I tested Clayton's code and with a test list, and iterating over the list works, it just needs a proper mapping file\n",
    "\n",
    "Concerns: the text is unicode, not sure if this will break the wordmapper portion, but it can be encoded to ascii or whatever easily\n",
    "The last part to do was reprinting the XML portion, so I have basic XML set up, but I can't figure out a way to modify a tagged\n",
    "area without creating a new field, maybe using the SAX events above can help?\n",
    "The XML is easiest to create with a string, at least it is with my code above, if there's an implementation with a list, then \n",
    "that might be easier\"\"\""
   ]
  },
  {
   "cell_type": "code",
   "execution_count": null,
   "metadata": {
    "collapsed": true
   },
   "outputs": [],
   "source": []
  }
 ],
 "metadata": {
  "kernelspec": {
   "display_name": "Python 2",
   "language": "python",
   "name": "python2"
  },
  "language_info": {
   "codemirror_mode": {
    "name": "ipython",
    "version": 2
   },
   "file_extension": ".py",
   "mimetype": "text/x-python",
   "name": "python",
   "nbconvert_exporter": "python",
   "pygments_lexer": "ipython2",
   "version": "2.7.8"
  }
 },
 "nbformat": 4,
 "nbformat_minor": 0
}
