{
 "cells": [
  {
   "cell_type": "code",
   "execution_count": 68,
   "metadata": {
    "collapsed": true
   },
   "outputs": [],
   "source": [
    "import xmltodict, json\n",
    "from os import listdir\n",
    "from os.path import isfile, join\n",
    "import re"
   ]
  },
  {
   "cell_type": "code",
   "execution_count": 37,
   "metadata": {
    "collapsed": false
   },
   "outputs": [],
   "source": [
    "#READ THE GOODNESS\n",
    "queries = open(\"testRunOut/query\", \"r\").read()\n",
    "queries_d = xmltodict.parse(queries)\n",
    "\n",
    "bugs = open(\"SWTBugRepository.xml\", \"r\").read()\n",
    "bugs_d = xmltodict.parse(bugs)\n",
    "\n",
    "docs_path = \"testRunOut/docs/\"\n",
    "docs_files = [f for f in listdir(docs_path) if isfile(join(docs_path, f))]\n",
    "docs_str_d = { d : open(\"testRunOut/docs/\"+d, \"r\").read() for d in docs_files }\n",
    "docs_d = { d : xmltodict.parse(docs_str_d[d]) for d in docs_files }"
   ]
  },
  {
   "cell_type": "code",
   "execution_count": 107,
   "metadata": {
    "collapsed": false
   },
   "outputs": [],
   "source": [
    "#CHECK THOSE TURDS\n",
    "#json.dumps(bugs_d)\n",
    "#json.dumps(queries_d)\n",
    "#json.dumps(docs_d)"
   ]
  },
  {
   "cell_type": "code",
   "execution_count": 142,
   "metadata": {
    "collapsed": true
   },
   "outputs": [],
   "source": [
    "#CLEAN THAT SHITE\n",
    "bug_map = {}\n",
    "for b in bugs_d['bugrepository']['bug']:\n",
    "    if type(b['fixedFiles']['file']) is not list:\n",
    "        file_list = [b['fixedFiles']['file']]\n",
    "    else:\n",
    "        file_list = b['fixedFiles']['file']\n",
    "    bug_map[b['@id']] =  file_list #number -> files\n",
    "#json.dumps(bug_map)\n",
    "\n",
    "query_map = {}\n",
    "c = re.compile(r\"(\\S+)\\..class.\")\n",
    "m = re.compile(r\"(\\S+)\\..method.\")\n",
    "i = re.compile(r\"(\\S+)\\..identifier.\") \n",
    "o = re.compile(r\"(\\S+)\\..comments.\")\n",
    "for q in queries_d['parameters']['query']:\n",
    "    text = q['text']\n",
    "    c_l = list(set(c.findall(text)))\n",
    "    m_l = list(set(m.findall(text)))\n",
    "    i_l = list(set(i.findall(text)))\n",
    "    o_l = list(set(o.findall(text)))\n",
    "    query_map[q['number']] = {'class':c_l, 'method':m_l, 'identifier':i_l, 'comments':o_l}\n",
    "#json.dumps(query_map)   \n",
    "\n",
    "docs_map = {}\n",
    "for _id in docs_d:\n",
    "    _file = docs_d[_id]['DOC']['DOCNO']\n",
    "    \n",
    "    c = docs_d[_id]['DOC']['text']['class'] #WTF ... org.eclipse.swt.internal.win32.OS.java <class> is empty\n",
    "    if c is None: c = ''\n",
    "    \n",
    "    c_l = list(set(c.split('\\n')))\n",
    "    m_l = list(set(docs_d[_id]['DOC']['text']['method'].split('\\n')))\n",
    "    i_l = list(set(docs_d[_id]['DOC']['text']['identifier'].split('\\n')))\n",
    "    o_l = list(set(docs_d[_id]['DOC']['text']['comments'].split('\\n'))) \n",
    "    docs_map[_file] = {'class':c_l, 'method':m_l, 'identifier':i_l, 'comments':o_l} #'id':_id,\n",
    "#json.dumps(docs_map)       \n"
   ]
  },
  {
   "cell_type": "code",
   "execution_count": 146,
   "metadata": {
    "collapsed": false
   },
   "outputs": [],
   "source": [
    "#THE REAL MAPPING BEGINS\n",
    "query2doc_map = {}\n",
    "for num in bug_map:\n",
    "    for _file in bug_map[num]: \n",
    "        for field in docs_map[_file]:\n",
    "            for q_line in query_map[num][field]:\n",
    "                if field is 'comments': continue\n",
    "                for d_line in docs_map[_file][field]:\n",
    "                    if not d_line.strip(): continue #if blank or empty skip\n",
    "                \n",
    "                    if q_line in query2doc_map:\n",
    "                        query2doc_map[q_line].append(d_line)\n",
    "                    else:\n",
    "                        query2doc_map[q_line] = [d_line]\n",
    "\n",
    "for line in query2doc_map:\n",
    "    temp = list(set(query2doc_map[line]))\n",
    "    query2doc_map[line] = temp\n",
    "                \n"
   ]
  },
  {
   "cell_type": "code",
   "execution_count": 147,
   "metadata": {
    "collapsed": false
   },
   "outputs": [
    {
     "name": "stdout",
     "output_type": "stream",
     "text": [
      "[u'and', u'another', u'chinese', u'text', u'misc', u'back', u'are', u'have', u'open', u'again', u'ime', u'window', u'editor', u'closed', u'status', u'then', u'IME', u'Eclipse', u'Chinese', u'lost', u'eclipse', u'switch', u'Open']\n",
      "[u'set enabled', u'set bounds', u' enabled', u' getminmaxinfo', u'set active control', u'widget parent', u' activate', u'get shells', u'enable widget', u' dispose', u'win 32_new', u'set tool tip text', u' syscommand', u' command', u'get enabled', u'set visible', u' querynewpalette', u'set item enabled', u'get shell', u'force active', u'fix shell', u' setcursor', u'force resize', u'get location', u' palettechanged', u' windowposchanging', u'find cursor', u'set region', u' showwindow', u' close', u'set minimum size', u'call window proc', u' open', u' visible', u'widget style', u'update modal', u'shell', u'translate accelerator', u'release shells', u'widget create struct', u'window class', u' settingchange', u'get bounds', u'find theme control', u'traverse escape', u'get region', u'remove shell listener', u'check style', u' destroy', u'window proc', u'get minimum size', u' enteridle', u'hwnd mdi client', u' shell', u' nchittest', u'release widget', u'layout deferred', u'get ime input mode', u'add shell listener', u' mouseactivate', u'set parent', u'remove menu', u'release handle', u'release child', u' nclbuttondown', u'set ime input mode', u'set active', u'get size', u'create handle', u'select palette', u'widget ext style', u'find brush']\n"
     ]
    }
   ],
   "source": [
    "print query_map[num][field]\n",
    "print docs_map[_file][field]"
   ]
  },
  {
   "cell_type": "code",
   "execution_count": 148,
   "metadata": {
    "collapsed": false
   },
   "outputs": [],
   "source": [
    "with open('query2doc_map.txt', 'w') as outfile:\n",
    "     json.dump(query2doc_map, outfile, sort_keys = True, indent = 4, ensure_ascii=False)"
   ]
  },
  {
   "cell_type": "code",
   "execution_count": null,
   "metadata": {
    "collapsed": true
   },
   "outputs": [],
   "source": []
  }
 ],
 "metadata": {
  "kernelspec": {
   "display_name": "Python 2",
   "language": "python",
   "name": "python2"
  },
  "language_info": {
   "codemirror_mode": {
    "name": "ipython",
    "version": 2
   },
   "file_extension": ".py",
   "mimetype": "text/x-python",
   "name": "python",
   "nbconvert_exporter": "python",
   "pygments_lexer": "ipython2",
   "version": "2.7.6"
  }
 },
 "nbformat": 4,
 "nbformat_minor": 0
}
