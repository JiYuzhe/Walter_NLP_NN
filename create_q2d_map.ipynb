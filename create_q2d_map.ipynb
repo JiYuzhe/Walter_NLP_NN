{
 "cells": [
  {
   "cell_type": "code",
   "execution_count": 1,
   "metadata": {
    "collapsed": false
   },
   "outputs": [],
   "source": [
    "import xmltodict, json\n",
    "from os import listdir\n",
    "from os.path import isfile, join\n",
    "import re"
   ]
  },
  {
   "cell_type": "code",
   "execution_count": 2,
   "metadata": {
    "collapsed": false
   },
   "outputs": [],
   "source": [
    "#READ THE GOODNESS\n",
    "queries = open(\"testRunOut/query\", \"r\").read()\n",
    "queries_d = xmltodict.parse(queries)\n",
    "\n",
    "bugs = open(\"SWTBugRepository.xml\", \"r\").read()\n",
    "bugs_d = xmltodict.parse(bugs)\n",
    "\n",
    "docs_path = \"testRunOut/docs/\"\n",
    "docs_files = [f for f in listdir(docs_path) if isfile(join(docs_path, f))]\n",
    "docs_str_d = { d : open(\"testRunOut/docs/\"+d, \"r\").read() for d in docs_files }\n",
    "docs_d = { d : xmltodict.parse(docs_str_d[d]) for d in docs_files }"
   ]
  },
  {
   "cell_type": "code",
   "execution_count": 3,
   "metadata": {
    "collapsed": false
   },
   "outputs": [],
   "source": [
    "#CHECK THOSE TURDS\n",
    "#json.dumps(bugs_d)\n",
    "#json.dumps(queries_d)\n",
    "#json.dumps(docs_d)"
   ]
  },
  {
   "cell_type": "code",
   "execution_count": 4,
   "metadata": {
    "collapsed": false,
    "scrolled": false
   },
   "outputs": [],
   "source": [
    "#CLEAN THAT SHITE\n",
    "bug_map = {}\n",
    "for b in bugs_d['bugrepository']['bug']:\n",
    "    if type(b['fixedFiles']['file']) is not list:\n",
    "        file_list = [b['fixedFiles']['file']]\n",
    "    else:\n",
    "        file_list = b['fixedFiles']['file']\n",
    "    bug_map[b['@id']] =  file_list #number -> files\n",
    "#json.dumps(bug_map)\n",
    "\n",
    "query_map = {}\n",
    "c = re.compile(r\"(\\S+)\\..class.\")\n",
    "m = re.compile(r\"(\\S+)\\..method.\")\n",
    "i = re.compile(r\"(\\S+)\\..identifier.\") \n",
    "o = re.compile(r\"(\\S+)\\..comments.\")\n",
    "for q in queries_d['parameters']['query']:\n",
    "    text = q['text']\n",
    "    c_l = list(set(c.findall(text)))\n",
    "    m_l = list(set(m.findall(text)))\n",
    "    i_l = list(set(i.findall(text)))\n",
    "    o_l = list(set(o.findall(text)))\n",
    "    query_map[q['number']] = {'class':c_l, 'method':m_l, 'identifier':i_l, 'comments':o_l}\n",
    "#json.dumps(query_map)   \n",
    "\n",
    "docs_map = {}\n",
    "for _id in docs_d:\n",
    "    _file = docs_d[_id]['DOC']['DOCNO']\n",
    "    \n",
    "    c = docs_d[_id]['DOC']['text']['class'] #WTF ... org.eclipse.swt.internal.win32.OS.java <class> is empty\n",
    "    if c is None: c = ''\n",
    "    \n",
    "    c_l = list(set(c.split('\\n')))\n",
    "    m_l = list(set(docs_d[_id]['DOC']['text']['method'].split('\\n')))\n",
    "    i_l = list(set(docs_d[_id]['DOC']['text']['identifier'].split('\\n')))\n",
    "    o_l = list(set(docs_d[_id]['DOC']['text']['comments'].split('\\n'))) \n",
    "    docs_map[_file] = {'class':c_l, 'method':m_l, 'identifier':i_l, 'comments':o_l} #'id':_id,\n",
    "#json.dumps(docs_map)       \n"
   ]
  },
  {
   "cell_type": "code",
   "execution_count": 5,
   "metadata": {
    "collapsed": false
   },
   "outputs": [],
   "source": [
    "#THE REAL MAPPING BEGINS\n",
    "query2doc_map = {}\n",
    "for num in bug_map:\n",
    "    for _file in bug_map[num]: \n",
    "        for field in docs_map[_file]:\n",
    "            if field not in query2doc_map:\n",
    "                query2doc_map[field]= {}\n",
    "            for q_line in query_map[num][field]:\n",
    "                #if field is 'comments': continue\n",
    "                for d_line in docs_map[_file][field]:\n",
    "                    if not d_line.strip(): continue #if blank or empty skip               \n",
    "                    if q_line in query2doc_map[field]:\n",
    "                        query2doc_map[field][q_line].append(d_line)\n",
    "                    else:\n",
    "                        query2doc_map[field][q_line] = [d_line]\n",
    "                        \n",
    "#for field in query2doc_map:\n",
    "#    for line in query2doc_map[field]:\n",
    "#        temp = list(set(query2doc_map[field][line]))\n",
    "#        query2doc_map[field][line] = temp\n",
    "                "
   ]
  },
  {
   "cell_type": "code",
   "execution_count": 6,
   "metadata": {
    "collapsed": false
   },
   "outputs": [
    {
     "name": "stdout",
     "output_type": "stream",
     "text": [
      "method Open find brush\n",
      "[u'set bounds', u'set items', u' char', u'get text', u' register', u'remove modify listener', u'get item height', u'clear selection', u'add selection listener', u'translate traversal', u'remove selection listener', u'send key event', u'get item count', u'verify text', u'default background', u'set item', u'get orientation', u'ime char', u'set orientation', u'set text limit', u'remove all', u'set visible item count', u'set text', u'get text limit', u'set selection', u' paste', u'get items', u'get selection', u' clipboard', u'combo', u' unsubclass', u'add verify listener', u'call window proc', u' size', u' select', u' deselect', u' deregister', u' index', u' cut', u'get selection index', u' setfocus', u'add modify listener', u'set foreground pixel', u'set background pixel', u'get item', u' ctlcolor', u' getdlgcode', u'check style', u' add', u'window proc', u'get visible item count', u'has focus', u' remove', u' subclass', u'traverse escape', u'remove verify listener', u'get text height', u'window class', u' lbuttondown', u'command child', u'wcs mbcs pos', u' killfocus', u'widget style', u'check subclass', u'compute size', u'mbcs wcs pos', u'check handle', u'deselect all', u' copy', u'create handle', u'widget ext style', u'get name text', u'free runs', u'get text', u'translate offset', u'break run', u' merge', u'get alignment', u'get line offsets', u'get width', u'set style', u'get item font', u'get line bounds', u'set orientation', u'set descent', u'get font', u'set tabs', u'get line metrics', u'get previous offset', u'get location', u'get segments text', u'set ascent', u' shape', u'compute runs', u'check item', u'validade offset', u'get style', u'_get offset', u'free', u' dispose', u' itemize', u' disposed', u'get next offset', u'get line index', u'get bounds', u'text layout', u'get line count', u' reorder', u'get segments', u'get spacing', u'get descent', u'set width', u'get offset', u'set alignment', u'set text', u'set spacing', u' draw', u' string', u'get tabs', u'set segments', u'untranslate offset', u'get ascent', u'set font', u'check layout', u'get level', u'get orientation', u'char upper', u'get menu item rect', u'set rect rgn', u'create menu bar', u'send input', u'set focus', u'open theme data', u'choose font', u'get window rgn', u'stretch blt', u'create pen', u'move memory', u'get icon info', u'register window message', u' polygon', u'validate rect', u'heap free', u'gradient fill', u'get prop', u'script text out', u'get desktop window', u'message beep', u'destroy icon', u'get menu item count', u'command bar create', u'set rect', u'set window pos', u'image list create', u'get cursor', u'begin defer window pos', u'set parent', u'destroy caret', u'send message', u'recognize gesture', u'get window text length', u'set active window', u'get char abc widths', u'image list destroy', u'set mode', u'window visible', u'register class', u'comm dlg extended error', u'create compatible bitmap', u'set palette entries', u'set clipboard data', u' restore', u'version', u' polyline', u'show owned popups', u'create dcw', u'get save file name', u'get message pos', u'create dca', u'draw edge', u'image list replace', u'image list add masked', u'get clip rgn', u'script pto', u'shell execute', u'window enabled', u'ole initialize', u'remove prop', u'stroke path', u'vtbl call', u'imm set composition font', u'get key state', u'get palette entries', u'script get font properties', u'enable menu item', u'get scroll info', u'bring window top', u'get combo box info', u'draw focus rect', u'enable scroll bar', u'get profile string', u'multi byte wide char', u'get open file name', u'get clipboard data', u'image list replace icon', u'destroy cursor', u'get active window', u' iconic', u'set scroll info', u'hide caret', u'offset rgn', u'get dlg item', u'track mouse event', u'window from', u'imm get composition font', u'create window', u'find window', u'command bar add adornments', u'reg query value', u'system parameters info', u'get cursor pos', u'invalidate rect', u'get menu info', u'get system default language', u'hung app window', u'get path from list', u'script place', u'set window text', u'get color', u'get class info', u'get menu bar info', u'image list get icon', u'get system palette entries', u'set menu default item', u'get random rgn', u'equal rgn', u'reg open key', u'imm create context', u'get window placement', u'unregister class', u' release', u'set window long', u'set stretch blt mode', u'fill rect', u'get keyboard layout list', u'get locale info', u'call next hook', u'gdi set batch limit', u'set graphics mode', u'translate accelerator', u'ole uninitialize', u'set capture', u'enum display monitors', u'transparent blt', u'get nearest palette index', u'destroy menu', u'enum system language groups', u'remove menu', u'sip get info', u'alpha blend', u'imm destroy context', u'create dib section', u' line', u'get window rect', u'show caret', u'get caret pos', u'load string', u'get window thread process', u'close theme data', u'set text align', u'track popup menu', u'set app key wnd assoc', u'get region data', u'dispatch message', u'get window org', u'imm get composition string', u'script cache get height', u' wcslen', u'get proc address', u'set menu info', u'imm disable text frame service', u'enum font families', u'command bar draw menu bar', u'create popup menu', u'command bar show', u'check menu item', u'set text color', u'get dialog base units', u'image list get icon size', u' rect', u'start page', u'sip preference', u'get keyboard layout', u'dbcs lead byte', u'window from point', u'get dib color table', u'post thread message', u'image list set icon size', u'register clipboard format', u'select clip rgn', u'format message', u'ext create region', u'wait message', u'imm associate context', u'draw frame control', u'get object', u'destroy accelerator table', u'get pixel', u'realize palette', u'get font language info', u' get', u'combine rgn', u'draw theme background', u'translate mdi sys accel', u'unhook windows hook', u'set menu item info', u' strlen', u'get current process', u'get gui thread info', u'iid from string', u'ext create pen', u'get message', u'intersect rect', u'set cursor', u'set menu', u'set color', u' move', u'imm release context', u'load cursor', u'extract icon', u'imm get open status', u'get tick count', u'get update rect', u'script itemize', u'imm set open status', u'set cursor pos', u' primarylangid', u'post message', u'enable window', u'create caret', u'script get logical widths', u'get sys color', u'get poly fill mode', u'get text metrics', u'get sys color brush', u'get module handle', u'activate keyboard layout', u'set caret pos', u'create compatible', u'set poly fill mode', u'set windows hook', u' region', u'imm set conversion status', u'load bitmap', u'kill timer', u'get device caps', u'get text extent point', u'set window org', u'create stream global', u'get char width', u'set world transform', u'enum system locales', u'defer window pos', u'end path', u'get capture', u' delete', u'get window', u' ppc', u' arc', u'bit blt', u'get clipboard format name', u'global add atom', u'get foreground window', u'script free cache', u'create cursor', u'reg close key', u'set foreground window', u' rectangle', u'get rop', u'get monitor info', u'get update rgn', u'get keyboard state', u'get system menu', u'set timer', u'monitor from window', u'command bar height', u'get text charset', u'handle setting change', u'map virtual key', u' save', u' pie', u'copy image', u'get last active popup', u' ellipse', u'draw icon', u' unicode', u'image list add', u'heap alloc', u'shell notify icon', u'get stock object', u'load image', u'set prop', u'destroy window', u'def mdi child proc', u'browse for folder', u'rect region', u'image list get image count', u'get meta rgn', u'reg query info key', u'def frame proc', u'fill path', u'key scan', u'get current object', u'set error mode', u'get menu default item', u'scroll window', u'load library', u'show window', u'get parent', u'set meta rgn', u'command bar destroy', u'peek message', u'show scroll bar', u'script layout', u'get window long', u'get menu', u'round rect', u'offset rect', u'create icon indirect', u'get rgn box', u'get malloc', u'print dlg', u'image list remove', u'notify win event', u'create palette', u'transparent image', u'script shape', u'get version', u' call', u'script break', u' zoomed', u'adjust window rect', u'choose color', u'create rect rgn', u'create polygon rgn', u'char lower', u'app themed', u'end doc', u'msg wait for multiple objects', u'get key name text', u'create font indirect', u'create pattern brush', u'get library handle', u'redraw window', u'get bits', u'global unlock', u'open clipboard', u'translate message', u'invalidate rgn', u'start doc', u'translate charset info', u'set pixel', u'select object', u'get current thread', u'set window rgn', u'select palette', u'get message time', u'set dib color table', u'wide char multi byte', u'begin paint', u'expand environment strings', u'command bar insert menubar', u'get acp', u'insert menu item', u'exclude clip rect', u'global lock', u'global size', u'get double click time', u'call window proc', u'set window placement', u'global free', u'draw state', u'get client rect', u'set layout', u'get system metrics', u'get clip box', u'def window proc', u'script get properties', u'load icon', u'delete menu', u'get character placement', u'get window text', u'client screen', u'drag detect', u'create instance', u'get world transform', u'create menu', u'get class name', u'get last error', u'begin path', u'intersect clip rect', u'equal rect', u'create accelerator table', u'set rop', u'get text color', u'pat blt', u'script xto', u'abort doc', u'free library', u'send back focus window', u'end defer window pos', u'local free', u'screen client', u'end paint', u'reg enum key', u'message box', u'drag query file', u'insert menu', u'global alloc', u'close clipboard', u'imm get conversion status', u'delete object', u'get menu item info', u'init common controls', u'get process heap', u'imm get context', u'get layout', u'get focus', u'draw text', u'drag finish', u'release capture', u' ascii', u'draw menu bar', u' create', u'imm get default ime wnd', u'update window', u'end page', u'ext text out', u'create solid brush', u'create bitmap', u'imm set composition window', u'map window points', u'set enabled', u'set bounds', u' enabled', u' getminmaxinfo', u'set active control', u'widget parent', u' activate', u'get shells', u'enable widget', u' dispose', u'win 32_new', u'set tool tip text', u' syscommand', u' command', u'get enabled', u'set visible', u' querynewpalette', u'set item enabled', u'get shell', u'force active', u'fix shell', u' setcursor', u'force resize', u'get location', u' palettechanged', u' windowposchanging', u'find cursor', u'set region', u' showwindow', u' close', u'set minimum size', u'call window proc', u' open', u' visible', u'widget style', u'update modal', u'shell', u'translate accelerator', u'release shells', u'widget create struct', u'window class', u' settingchange', u'get bounds', u'find theme control', u'traverse escape', u'get region', u'remove shell listener', u'check style', u' destroy', u'window proc', u'get minimum size', u' enteridle', u'hwnd mdi client', u' shell', u' nchittest', u'release widget', u'layout deferred', u'get ime input mode', u'add shell listener', u' mouseactivate', u'set parent', u'remove menu', u'release handle', u'release child', u' nclbuttondown', u'set ime input mode', u'set active', u'get size', u'create handle', u'select palette', u'widget ext style', u'find brush']\n"
     ]
    }
   ],
   "source": [
    "#print num,field,_file,line\n",
    "#print query_map[num][field]\n",
    "#print docs_map[_file][field]\n",
    "#print query2doc_map[field][line]\n",
    " \n",
    "print field,q_line,d_line\n",
    "print query2doc_map[field][q_line]"
   ]
  },
  {
   "cell_type": "code",
   "execution_count": 7,
   "metadata": {
    "collapsed": false
   },
   "outputs": [],
   "source": [
    "with open('query2doc2field_map.txt', 'w') as outfile:\n",
    "     json.dump(query2doc_map, outfile, sort_keys = True, indent = 2)"
   ]
  },
  {
   "cell_type": "code",
   "execution_count": 8,
   "metadata": {
    "collapsed": false
   },
   "outputs": [
    {
     "data": {
      "text/plain": [
       "['everything', 'is', 'magic']"
      ]
     },
     "execution_count": 8,
     "metadata": {},
     "output_type": "execute_result"
    }
   ],
   "source": [
    "x=\"everything is magic\"\n",
    "x.split()"
   ]
  },
  {
   "cell_type": "code",
   "execution_count": 9,
   "metadata": {
    "collapsed": false
   },
   "outputs": [
    {
     "data": {
      "text/plain": [
       "'everything is magic'"
      ]
     },
     "execution_count": 9,
     "metadata": {},
     "output_type": "execute_result"
    }
   ],
   "source": [
    "' '.join(x.split())"
   ]
  },
  {
   "cell_type": "code",
   "execution_count": null,
   "metadata": {
    "collapsed": true
   },
   "outputs": [],
   "source": []
  }
 ],
 "metadata": {
  "kernelspec": {
   "display_name": "Python 2",
   "language": "python",
   "name": "python2"
  },
  "language_info": {
   "codemirror_mode": {
    "name": "ipython",
    "version": 2
   },
   "file_extension": ".py",
   "mimetype": "text/x-python",
   "name": "python",
   "nbconvert_exporter": "python",
   "pygments_lexer": "ipython2",
   "version": "2.7.6"
  }
 },
 "nbformat": 4,
 "nbformat_minor": 0
}
